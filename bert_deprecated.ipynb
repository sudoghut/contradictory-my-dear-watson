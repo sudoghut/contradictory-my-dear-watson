{
 "cells": [
  {
   "cell_type": "code",
   "execution_count": 1,
   "metadata": {},
   "outputs": [
    {
     "name": "stderr",
     "output_type": "stream",
     "text": [
      "c:\\Users\\sudos\\anaconda3\\envs\\pytorch\\lib\\site-packages\\tqdm\\auto.py:22: TqdmWarning: IProgress not found. Please update jupyter and ipywidgets. See https://ipywidgets.readthedocs.io/en/stable/user_install.html\n",
      "  from .autonotebook import tqdm as notebook_tqdm\n"
     ]
    }
   ],
   "source": [
    "import torch\n",
    "import numpy as np\n",
    "from transformers import BertTokenizer\n",
    "import pandas as pd\n",
    "\n",
    "MODEL_NAME = \"bert-base-cased\"\n",
    "# MODEL_NAME = \"bert-base-multilingual-cased\"\n",
    "tokenizer = BertTokenizer.from_pretrained(MODEL_NAME)"
   ]
  },
  {
   "cell_type": "code",
   "execution_count": 2,
   "metadata": {},
   "outputs": [
    {
     "name": "stdout",
     "output_type": "stream",
     "text": [
      "0    5\n",
      "2    3\n",
      "1    2\n",
      "Name: label, dtype: int64\n",
      "<class 'pandas.core.frame.DataFrame'>\n",
      "RangeIndex: 10 entries, 0 to 9\n",
      "Data columns (total 6 columns):\n",
      " #   Column      Non-Null Count  Dtype \n",
      "---  ------      --------------  ----- \n",
      " 0   id          10 non-null     object\n",
      " 1   premise     10 non-null     object\n",
      " 2   hypothesis  10 non-null     object\n",
      " 3   lang_abv    10 non-null     object\n",
      " 4   language    10 non-null     object\n",
      " 5   label       10 non-null     int64 \n",
      "dtypes: int64(1), object(5)\n",
      "memory usage: 608.0+ bytes\n"
     ]
    }
   ],
   "source": [
    "df_raw = pd.read_csv('https://raw.githubusercontent.com/sudoghut/contradictory-my-dear-watson/main/data/train_10_en.csv')\n",
    "# df_raw = pd.read_csv('https://raw.githubusercontent.com/sudoghut/contradictory-my-dear-watson/main/data/train.csv')\n",
    "df_raw = df_raw[:10]\n",
    "# print(df_raw.head(5))\n",
    "print(df_raw[\"label\"].value_counts())\n",
    "df_raw[\"label\"].to_numpy()\n",
    "df_raw.info()\n"
   ]
  },
  {
   "cell_type": "code",
   "execution_count": 3,
   "metadata": {},
   "outputs": [],
   "source": [
    "# labels = {'Entailment':0,\n",
    "#           'Neutral':1,\n",
    "#           'Contradiction':2,\n",
    "#           }\n",
    "\n",
    "class Dataset(torch.utils.data.Dataset):\n",
    "\n",
    "    def __init__(self, df):\n",
    "\n",
    "        self.labels = df['label']\n",
    "        self.texts = [tokenizer(text, \n",
    "                               padding='max_length', max_length = 512, truncation=True,\n",
    "                                return_tensors=\"pt\") for text in df['premise']]\n",
    "        # self.premise = [tokenizer(text, \n",
    "        #                        padding='max_length', max_length = 512, truncation=True,\n",
    "        #                         return_tensors=\"pt\") for text in df['premise']]\n",
    "        # self.hypothesis = [tokenizer(text, \n",
    "        #                        padding='max_length', max_length = 512, truncation=True,\n",
    "        #                         return_tensors=\"pt\") for text in df['hypothesis']]\n",
    "        # self.texts = self.premise + self.hypothesis\n",
    "\n",
    "    def classes(self):\n",
    "        return self.labels\n",
    "\n",
    "    def __len__(self):\n",
    "        return len(self.labels)\n",
    "\n",
    "    def get_batch_labels(self, idx):\n",
    "        # Fetch a batch of labels\n",
    "        return np.array(self.labels[idx])\n",
    "\n",
    "    def get_batch_texts(self, idx):\n",
    "        # Fetch a batch of inputs\n",
    "        return self.texts[idx]\n",
    "\n",
    "    def __getitem__(self, idx):\n",
    "\n",
    "        batch_texts = self.get_batch_texts(idx)\n",
    "        batch_y = self.get_batch_labels(idx)\n",
    "\n",
    "        # print(\"hereit\")\n",
    "        # # print(idx)\n",
    "        # print(self.texts)\n",
    "        # print(\"hereend\")\n",
    "        return batch_texts, batch_y"
   ]
  },
  {
   "cell_type": "code",
   "execution_count": 4,
   "metadata": {},
   "outputs": [
    {
     "name": "stdout",
     "output_type": "stream",
     "text": [
      "10 10 10\n"
     ]
    }
   ],
   "source": [
    "np.random.seed(112)\n",
    "# df_train, df_val, df_test = np.split(df_raw.sample(frac=1, random_state=42), \n",
    "#                                      [int(.8*len(df_raw)), int(.9*len(df_raw))])\n",
    "df_train, df_val, df_test = np.split(df_raw.sample(frac=1, random_state=42), \n",
    "                                     [10, 10])\n",
    "df_val = df_train\n",
    "df_test = df_train\n",
    "print(len(df_train),len(df_val), len(df_test))"
   ]
  },
  {
   "cell_type": "code",
   "execution_count": 5,
   "metadata": {},
   "outputs": [],
   "source": [
    "from torch import nn\n",
    "from transformers import BertModel\n",
    "\n",
    "class BertClassifier(nn.Module):\n",
    "\n",
    "    def __init__(self, dropout=0.5):\n",
    "\n",
    "        super(BertClassifier, self).__init__()\n",
    "\n",
    "        self.bert = BertModel.from_pretrained(MODEL_NAME)\n",
    "        self.dropout = nn.Dropout(dropout)\n",
    "        self.linear = nn.Linear(768, 5)\n",
    "        self.relu = nn.ReLU()\n",
    "\n",
    "    def forward(self, input_id, mask):\n",
    "\n",
    "        _, pooled_output = self.bert(input_ids= input_id, attention_mask=mask,return_dict=False)\n",
    "        dropout_output = self.dropout(pooled_output)\n",
    "        linear_output = self.linear(dropout_output)\n",
    "        final_layer = self.relu(linear_output)\n",
    "\n",
    "        return final_layer"
   ]
  },
  {
   "cell_type": "code",
   "execution_count": 6,
   "metadata": {},
   "outputs": [
    {
     "name": "stderr",
     "output_type": "stream",
     "text": [
      "Some weights of the model checkpoint at bert-base-cased were not used when initializing BertModel: ['cls.predictions.bias', 'cls.seq_relationship.weight', 'cls.seq_relationship.bias', 'cls.predictions.transform.LayerNorm.bias', 'cls.predictions.transform.LayerNorm.weight', 'cls.predictions.transform.dense.bias', 'cls.predictions.decoder.weight', 'cls.predictions.transform.dense.weight']\n",
      "- This IS expected if you are initializing BertModel from the checkpoint of a model trained on another task or with another architecture (e.g. initializing a BertForSequenceClassification model from a BertForPreTraining model).\n",
      "- This IS NOT expected if you are initializing BertModel from the checkpoint of a model that you expect to be exactly identical (initializing a BertForSequenceClassification model from a BertForSequenceClassification model).\n"
     ]
    },
    {
     "name": "stdout",
     "output_type": "stream",
     "text": [
      "gethere1\n",
      "gethere2\n",
      "gethere3\n",
      "gethere4\n",
      "gethere5\n",
      "gethere6\n"
     ]
    },
    {
     "name": "stderr",
     "output_type": "stream",
     "text": [
      "  0%|          | 0/10 [00:00<?, ?it/s]"
     ]
    },
    {
     "name": "stdout",
     "output_type": "stream",
     "text": [
      "gethere7\n",
      "gethere8\n",
      "gethere9\n",
      "gethere10\n",
      "gethere11\n"
     ]
    },
    {
     "name": "stderr",
     "output_type": "stream",
     "text": [
      " 10%|█         | 1/10 [00:03<00:32,  3.65s/it]"
     ]
    },
    {
     "name": "stdout",
     "output_type": "stream",
     "text": [
      "gethere12\n",
      "gethere7\n",
      "gethere8\n",
      "gethere9\n",
      "gethere10\n",
      "gethere11\n"
     ]
    },
    {
     "name": "stderr",
     "output_type": "stream",
     "text": [
      " 20%|██        | 2/10 [00:07<00:29,  3.72s/it]"
     ]
    },
    {
     "name": "stdout",
     "output_type": "stream",
     "text": [
      "gethere12\n",
      "gethere7\n",
      "gethere8\n",
      "gethere9\n",
      "gethere10\n",
      "gethere11\n"
     ]
    },
    {
     "name": "stderr",
     "output_type": "stream",
     "text": [
      " 30%|███       | 3/10 [00:11<00:26,  3.78s/it]"
     ]
    },
    {
     "name": "stdout",
     "output_type": "stream",
     "text": [
      "gethere12\n",
      "gethere7\n",
      "gethere8\n",
      "gethere9\n",
      "gethere10\n",
      "gethere11\n"
     ]
    },
    {
     "name": "stderr",
     "output_type": "stream",
     "text": [
      " 40%|████      | 4/10 [00:15<00:22,  3.77s/it]"
     ]
    },
    {
     "name": "stdout",
     "output_type": "stream",
     "text": [
      "gethere12\n",
      "gethere7\n",
      "gethere8\n",
      "gethere9\n",
      "gethere10\n",
      "gethere11\n"
     ]
    },
    {
     "name": "stderr",
     "output_type": "stream",
     "text": [
      " 50%|█████     | 5/10 [00:18<00:18,  3.75s/it]"
     ]
    },
    {
     "name": "stdout",
     "output_type": "stream",
     "text": [
      "gethere12\n",
      "gethere7\n",
      "gethere8\n",
      "gethere9\n",
      "gethere10\n",
      "gethere11\n"
     ]
    },
    {
     "name": "stderr",
     "output_type": "stream",
     "text": [
      " 60%|██████    | 6/10 [00:22<00:14,  3.73s/it]"
     ]
    },
    {
     "name": "stdout",
     "output_type": "stream",
     "text": [
      "gethere12\n",
      "gethere7\n",
      "gethere8\n",
      "gethere9\n",
      "gethere10\n",
      "gethere11\n"
     ]
    },
    {
     "name": "stderr",
     "output_type": "stream",
     "text": [
      " 70%|███████   | 7/10 [00:26<00:11,  3.74s/it]"
     ]
    },
    {
     "name": "stdout",
     "output_type": "stream",
     "text": [
      "gethere12\n",
      "gethere7\n",
      "gethere8\n",
      "gethere9\n",
      "gethere10\n",
      "gethere11\n"
     ]
    },
    {
     "name": "stderr",
     "output_type": "stream",
     "text": [
      " 80%|████████  | 8/10 [00:29<00:07,  3.73s/it]"
     ]
    },
    {
     "name": "stdout",
     "output_type": "stream",
     "text": [
      "gethere12\n",
      "gethere7\n",
      "gethere8\n",
      "gethere9\n",
      "gethere10\n",
      "gethere11\n"
     ]
    },
    {
     "name": "stderr",
     "output_type": "stream",
     "text": [
      " 90%|█████████ | 9/10 [00:33<00:03,  3.74s/it]"
     ]
    },
    {
     "name": "stdout",
     "output_type": "stream",
     "text": [
      "gethere12\n",
      "gethere7\n",
      "gethere8\n",
      "gethere9\n",
      "gethere10\n",
      "gethere11\n"
     ]
    },
    {
     "name": "stderr",
     "output_type": "stream",
     "text": [
      "100%|██████████| 10/10 [00:37<00:00,  3.74s/it]"
     ]
    },
    {
     "name": "stdout",
     "output_type": "stream",
     "text": [
      "gethere12\n",
      "gethere13\n",
      "gethere14\n",
      "gethere15\n",
      "gethere16\n"
     ]
    },
    {
     "name": "stderr",
     "output_type": "stream",
     "text": [
      "\n"
     ]
    },
    {
     "name": "stdout",
     "output_type": "stream",
     "text": [
      "gethere17\n",
      "gethere18\n",
      "gethere16\n",
      "gethere17\n",
      "gethere18\n",
      "gethere16\n",
      "gethere17\n",
      "gethere18\n",
      "gethere16\n",
      "gethere17\n",
      "gethere18\n",
      "gethere16\n",
      "gethere17\n",
      "gethere18\n",
      "Epochs: 1 | Train Loss:  1.620                 | Train Accuracy:  0.300                 | Val Loss:  0.840                 | Val Accuracy:  0.300\n",
      "gethere6\n"
     ]
    },
    {
     "name": "stderr",
     "output_type": "stream",
     "text": [
      "  0%|          | 0/10 [00:00<?, ?it/s]"
     ]
    },
    {
     "name": "stdout",
     "output_type": "stream",
     "text": [
      "gethere7\n",
      "gethere8\n",
      "gethere9\n",
      "gethere10\n",
      "gethere11\n"
     ]
    },
    {
     "name": "stderr",
     "output_type": "stream",
     "text": [
      " 10%|█         | 1/10 [00:03<00:33,  3.67s/it]"
     ]
    },
    {
     "name": "stdout",
     "output_type": "stream",
     "text": [
      "gethere12\n",
      "gethere7\n",
      "gethere8\n",
      "gethere9\n",
      "gethere10\n",
      "gethere11\n"
     ]
    },
    {
     "name": "stderr",
     "output_type": "stream",
     "text": [
      " 20%|██        | 2/10 [00:07<00:29,  3.70s/it]"
     ]
    },
    {
     "name": "stdout",
     "output_type": "stream",
     "text": [
      "gethere12\n",
      "gethere7\n",
      "gethere8\n",
      "gethere9\n",
      "gethere10\n",
      "gethere11\n"
     ]
    },
    {
     "name": "stderr",
     "output_type": "stream",
     "text": [
      " 30%|███       | 3/10 [00:11<00:25,  3.69s/it]"
     ]
    },
    {
     "name": "stdout",
     "output_type": "stream",
     "text": [
      "gethere12\n",
      "gethere7\n",
      "gethere8\n",
      "gethere9\n",
      "gethere10\n",
      "gethere11\n"
     ]
    },
    {
     "name": "stderr",
     "output_type": "stream",
     "text": [
      " 40%|████      | 4/10 [00:14<00:22,  3.68s/it]"
     ]
    },
    {
     "name": "stdout",
     "output_type": "stream",
     "text": [
      "gethere12\n",
      "gethere7\n",
      "gethere8\n",
      "gethere9\n",
      "gethere10\n",
      "gethere11\n"
     ]
    },
    {
     "name": "stderr",
     "output_type": "stream",
     "text": [
      " 50%|█████     | 5/10 [00:18<00:18,  3.67s/it]"
     ]
    },
    {
     "name": "stdout",
     "output_type": "stream",
     "text": [
      "gethere12\n",
      "gethere7\n",
      "gethere8\n",
      "gethere9\n",
      "gethere10\n",
      "gethere11\n"
     ]
    },
    {
     "name": "stderr",
     "output_type": "stream",
     "text": [
      " 60%|██████    | 6/10 [00:22<00:14,  3.67s/it]"
     ]
    },
    {
     "name": "stdout",
     "output_type": "stream",
     "text": [
      "gethere12\n",
      "gethere7\n",
      "gethere8\n",
      "gethere9\n",
      "gethere10\n",
      "gethere11\n"
     ]
    },
    {
     "name": "stderr",
     "output_type": "stream",
     "text": [
      " 70%|███████   | 7/10 [00:25<00:11,  3.67s/it]"
     ]
    },
    {
     "name": "stdout",
     "output_type": "stream",
     "text": [
      "gethere12\n",
      "gethere7\n",
      "gethere8\n",
      "gethere9\n",
      "gethere10\n",
      "gethere11\n"
     ]
    },
    {
     "name": "stderr",
     "output_type": "stream",
     "text": [
      " 80%|████████  | 8/10 [00:29<00:07,  3.65s/it]"
     ]
    },
    {
     "name": "stdout",
     "output_type": "stream",
     "text": [
      "gethere12\n",
      "gethere7\n",
      "gethere8\n",
      "gethere9\n",
      "gethere10\n",
      "gethere11\n"
     ]
    },
    {
     "name": "stderr",
     "output_type": "stream",
     "text": [
      " 90%|█████████ | 9/10 [00:33<00:03,  3.66s/it]"
     ]
    },
    {
     "name": "stdout",
     "output_type": "stream",
     "text": [
      "gethere12\n",
      "gethere7\n",
      "gethere8\n",
      "gethere9\n",
      "gethere10\n",
      "gethere11\n"
     ]
    },
    {
     "name": "stderr",
     "output_type": "stream",
     "text": [
      "100%|██████████| 10/10 [00:36<00:00,  3.67s/it]"
     ]
    },
    {
     "name": "stdout",
     "output_type": "stream",
     "text": [
      "gethere12\n",
      "gethere13\n",
      "gethere14\n",
      "gethere15\n",
      "gethere16\n"
     ]
    },
    {
     "name": "stderr",
     "output_type": "stream",
     "text": [
      "\n"
     ]
    },
    {
     "name": "stdout",
     "output_type": "stream",
     "text": [
      "gethere17\n",
      "gethere18\n",
      "gethere16\n",
      "gethere17\n",
      "gethere18\n",
      "gethere16\n",
      "gethere17\n",
      "gethere18\n",
      "gethere16\n",
      "gethere17\n",
      "gethere18\n",
      "gethere16\n",
      "gethere17\n",
      "gethere18\n",
      "Epochs: 2 | Train Loss:  1.968                 | Train Accuracy:  0.200                 | Val Loss:  0.817                 | Val Accuracy:  0.300\n",
      "gethere6\n"
     ]
    },
    {
     "name": "stderr",
     "output_type": "stream",
     "text": [
      "  0%|          | 0/10 [00:00<?, ?it/s]"
     ]
    },
    {
     "name": "stdout",
     "output_type": "stream",
     "text": [
      "gethere7\n",
      "gethere8\n",
      "gethere9\n",
      "gethere10\n",
      "gethere11\n"
     ]
    },
    {
     "name": "stderr",
     "output_type": "stream",
     "text": [
      " 10%|█         | 1/10 [00:03<00:33,  3.70s/it]"
     ]
    },
    {
     "name": "stdout",
     "output_type": "stream",
     "text": [
      "gethere12\n",
      "gethere7\n",
      "gethere8\n",
      "gethere9\n",
      "gethere10\n",
      "gethere11\n"
     ]
    },
    {
     "name": "stderr",
     "output_type": "stream",
     "text": [
      " 20%|██        | 2/10 [00:07<00:29,  3.68s/it]"
     ]
    },
    {
     "name": "stdout",
     "output_type": "stream",
     "text": [
      "gethere12\n",
      "gethere7\n",
      "gethere8\n",
      "gethere9\n",
      "gethere10\n",
      "gethere11\n"
     ]
    },
    {
     "name": "stderr",
     "output_type": "stream",
     "text": [
      " 30%|███       | 3/10 [00:11<00:25,  3.68s/it]"
     ]
    },
    {
     "name": "stdout",
     "output_type": "stream",
     "text": [
      "gethere12\n",
      "gethere7\n",
      "gethere8\n",
      "gethere9\n",
      "gethere10\n",
      "gethere11\n"
     ]
    },
    {
     "name": "stderr",
     "output_type": "stream",
     "text": [
      " 40%|████      | 4/10 [00:14<00:21,  3.66s/it]"
     ]
    },
    {
     "name": "stdout",
     "output_type": "stream",
     "text": [
      "gethere12\n",
      "gethere7\n",
      "gethere8\n",
      "gethere9\n",
      "gethere10\n",
      "gethere11\n"
     ]
    },
    {
     "name": "stderr",
     "output_type": "stream",
     "text": [
      " 50%|█████     | 5/10 [00:18<00:18,  3.67s/it]"
     ]
    },
    {
     "name": "stdout",
     "output_type": "stream",
     "text": [
      "gethere12\n",
      "gethere7\n",
      "gethere8\n",
      "gethere9\n",
      "gethere10\n",
      "gethere11\n"
     ]
    },
    {
     "name": "stderr",
     "output_type": "stream",
     "text": [
      " 60%|██████    | 6/10 [00:21<00:14,  3.66s/it]"
     ]
    },
    {
     "name": "stdout",
     "output_type": "stream",
     "text": [
      "gethere12\n",
      "gethere7\n",
      "gethere8\n",
      "gethere9\n",
      "gethere10\n",
      "gethere11\n"
     ]
    },
    {
     "name": "stderr",
     "output_type": "stream",
     "text": [
      " 70%|███████   | 7/10 [00:25<00:10,  3.66s/it]"
     ]
    },
    {
     "name": "stdout",
     "output_type": "stream",
     "text": [
      "gethere12\n",
      "gethere7\n",
      "gethere8\n",
      "gethere9\n",
      "gethere10\n",
      "gethere11\n"
     ]
    },
    {
     "name": "stderr",
     "output_type": "stream",
     "text": [
      " 80%|████████  | 8/10 [00:29<00:07,  3.66s/it]"
     ]
    },
    {
     "name": "stdout",
     "output_type": "stream",
     "text": [
      "gethere12\n",
      "gethere7\n",
      "gethere8\n",
      "gethere9\n",
      "gethere10\n",
      "gethere11\n"
     ]
    },
    {
     "name": "stderr",
     "output_type": "stream",
     "text": [
      " 90%|█████████ | 9/10 [00:32<00:03,  3.65s/it]"
     ]
    },
    {
     "name": "stdout",
     "output_type": "stream",
     "text": [
      "gethere12\n",
      "gethere7\n",
      "gethere8\n",
      "gethere9\n",
      "gethere10\n",
      "gethere11\n"
     ]
    },
    {
     "name": "stderr",
     "output_type": "stream",
     "text": [
      "100%|██████████| 10/10 [00:36<00:00,  3.67s/it]"
     ]
    },
    {
     "name": "stdout",
     "output_type": "stream",
     "text": [
      "gethere12\n",
      "gethere13\n",
      "gethere14\n",
      "gethere15\n",
      "gethere16\n"
     ]
    },
    {
     "name": "stderr",
     "output_type": "stream",
     "text": [
      "\n"
     ]
    },
    {
     "name": "stdout",
     "output_type": "stream",
     "text": [
      "gethere17\n",
      "gethere18\n",
      "gethere16\n",
      "gethere17\n",
      "gethere18\n",
      "gethere16\n",
      "gethere17\n",
      "gethere18\n",
      "gethere16\n",
      "gethere17\n",
      "gethere18\n",
      "gethere16\n",
      "gethere17\n",
      "gethere18\n",
      "Epochs: 3 | Train Loss:  1.729                 | Train Accuracy:  0.200                 | Val Loss:  0.903                 | Val Accuracy:  0.200\n",
      "gethere6\n"
     ]
    },
    {
     "name": "stderr",
     "output_type": "stream",
     "text": [
      "  0%|          | 0/10 [00:00<?, ?it/s]"
     ]
    },
    {
     "name": "stdout",
     "output_type": "stream",
     "text": [
      "gethere7\n",
      "gethere8\n",
      "gethere9\n",
      "gethere10\n",
      "gethere11\n"
     ]
    },
    {
     "name": "stderr",
     "output_type": "stream",
     "text": [
      " 10%|█         | 1/10 [00:03<00:33,  3.70s/it]"
     ]
    },
    {
     "name": "stdout",
     "output_type": "stream",
     "text": [
      "gethere12\n",
      "gethere7\n",
      "gethere8\n",
      "gethere9\n",
      "gethere10\n",
      "gethere11\n"
     ]
    },
    {
     "name": "stderr",
     "output_type": "stream",
     "text": [
      " 20%|██        | 2/10 [00:07<00:29,  3.74s/it]"
     ]
    },
    {
     "name": "stdout",
     "output_type": "stream",
     "text": [
      "gethere12\n",
      "gethere7\n",
      "gethere8\n",
      "gethere9\n",
      "gethere10\n",
      "gethere11\n"
     ]
    },
    {
     "name": "stderr",
     "output_type": "stream",
     "text": [
      " 30%|███       | 3/10 [00:11<00:26,  3.84s/it]"
     ]
    },
    {
     "name": "stdout",
     "output_type": "stream",
     "text": [
      "gethere12\n",
      "gethere7\n",
      "gethere8\n",
      "gethere9\n",
      "gethere10\n",
      "gethere11\n"
     ]
    },
    {
     "name": "stderr",
     "output_type": "stream",
     "text": [
      " 40%|████      | 4/10 [00:15<00:24,  4.07s/it]"
     ]
    },
    {
     "name": "stdout",
     "output_type": "stream",
     "text": [
      "gethere12\n",
      "gethere7\n",
      "gethere8\n",
      "gethere9\n",
      "gethere10\n",
      "gethere11\n"
     ]
    },
    {
     "name": "stderr",
     "output_type": "stream",
     "text": [
      " 50%|█████     | 5/10 [00:20<00:20,  4.20s/it]"
     ]
    },
    {
     "name": "stdout",
     "output_type": "stream",
     "text": [
      "gethere12\n",
      "gethere7\n",
      "gethere8\n",
      "gethere9\n",
      "gethere10\n",
      "gethere11\n"
     ]
    },
    {
     "name": "stderr",
     "output_type": "stream",
     "text": [
      " 60%|██████    | 6/10 [00:24<00:17,  4.26s/it]"
     ]
    },
    {
     "name": "stdout",
     "output_type": "stream",
     "text": [
      "gethere12\n",
      "gethere7\n",
      "gethere8\n",
      "gethere9\n",
      "gethere10\n",
      "gethere11\n"
     ]
    },
    {
     "name": "stderr",
     "output_type": "stream",
     "text": [
      " 70%|███████   | 7/10 [00:29<00:13,  4.34s/it]"
     ]
    },
    {
     "name": "stdout",
     "output_type": "stream",
     "text": [
      "gethere12\n",
      "gethere7\n",
      "gethere8\n",
      "gethere9\n",
      "gethere10\n",
      "gethere11\n"
     ]
    },
    {
     "name": "stderr",
     "output_type": "stream",
     "text": [
      " 80%|████████  | 8/10 [00:33<00:08,  4.37s/it]"
     ]
    },
    {
     "name": "stdout",
     "output_type": "stream",
     "text": [
      "gethere12\n",
      "gethere7\n",
      "gethere8\n",
      "gethere9\n",
      "gethere10\n",
      "gethere11\n"
     ]
    },
    {
     "name": "stderr",
     "output_type": "stream",
     "text": [
      " 90%|█████████ | 9/10 [00:38<00:04,  4.40s/it]"
     ]
    },
    {
     "name": "stdout",
     "output_type": "stream",
     "text": [
      "gethere12\n",
      "gethere7\n",
      "gethere8\n",
      "gethere9\n",
      "gethere10\n",
      "gethere11\n"
     ]
    },
    {
     "name": "stderr",
     "output_type": "stream",
     "text": [
      "100%|██████████| 10/10 [00:42<00:00,  4.25s/it]"
     ]
    },
    {
     "name": "stdout",
     "output_type": "stream",
     "text": [
      "gethere12\n",
      "gethere13\n",
      "gethere14\n",
      "gethere15\n",
      "gethere16\n"
     ]
    },
    {
     "name": "stderr",
     "output_type": "stream",
     "text": [
      "\n"
     ]
    },
    {
     "name": "stdout",
     "output_type": "stream",
     "text": [
      "gethere17\n",
      "gethere18\n",
      "gethere16\n",
      "gethere17\n",
      "gethere18\n",
      "gethere16\n",
      "gethere17\n",
      "gethere18\n",
      "gethere16\n",
      "gethere17\n",
      "gethere18\n",
      "gethere16\n",
      "gethere17\n",
      "gethere18\n",
      "Epochs: 4 | Train Loss:  1.811                 | Train Accuracy:  0.200                 | Val Loss:  0.734                 | Val Accuracy:  0.200\n",
      "gethere6\n"
     ]
    },
    {
     "name": "stderr",
     "output_type": "stream",
     "text": [
      "  0%|          | 0/10 [00:00<?, ?it/s]"
     ]
    },
    {
     "name": "stdout",
     "output_type": "stream",
     "text": [
      "gethere7\n",
      "gethere8\n",
      "gethere9\n",
      "gethere10\n",
      "gethere11\n"
     ]
    },
    {
     "name": "stderr",
     "output_type": "stream",
     "text": [
      " 10%|█         | 1/10 [00:04<00:40,  4.52s/it]"
     ]
    },
    {
     "name": "stdout",
     "output_type": "stream",
     "text": [
      "gethere12\n",
      "gethere7\n",
      "gethere8\n",
      "gethere9\n",
      "gethere10\n",
      "gethere11\n"
     ]
    },
    {
     "name": "stderr",
     "output_type": "stream",
     "text": [
      " 20%|██        | 2/10 [00:08<00:35,  4.48s/it]"
     ]
    },
    {
     "name": "stdout",
     "output_type": "stream",
     "text": [
      "gethere12\n",
      "gethere7\n",
      "gethere8\n",
      "gethere9\n",
      "gethere10\n",
      "gethere11\n"
     ]
    },
    {
     "name": "stderr",
     "output_type": "stream",
     "text": [
      " 30%|███       | 3/10 [00:13<00:31,  4.49s/it]"
     ]
    },
    {
     "name": "stdout",
     "output_type": "stream",
     "text": [
      "gethere12\n",
      "gethere7\n",
      "gethere8\n",
      "gethere9\n",
      "gethere10\n",
      "gethere11\n"
     ]
    },
    {
     "name": "stderr",
     "output_type": "stream",
     "text": [
      " 40%|████      | 4/10 [00:17<00:26,  4.48s/it]"
     ]
    },
    {
     "name": "stdout",
     "output_type": "stream",
     "text": [
      "gethere12\n",
      "gethere7\n",
      "gethere8\n",
      "gethere9\n",
      "gethere10\n",
      "gethere11\n"
     ]
    },
    {
     "name": "stderr",
     "output_type": "stream",
     "text": [
      " 50%|█████     | 5/10 [00:22<00:22,  4.49s/it]"
     ]
    },
    {
     "name": "stdout",
     "output_type": "stream",
     "text": [
      "gethere12\n",
      "gethere7\n",
      "gethere8\n",
      "gethere9\n",
      "gethere10\n",
      "gethere11\n"
     ]
    },
    {
     "name": "stderr",
     "output_type": "stream",
     "text": [
      " 60%|██████    | 6/10 [00:26<00:17,  4.48s/it]"
     ]
    },
    {
     "name": "stdout",
     "output_type": "stream",
     "text": [
      "gethere12\n",
      "gethere7\n",
      "gethere8\n",
      "gethere9\n",
      "gethere10\n",
      "gethere11\n"
     ]
    },
    {
     "name": "stderr",
     "output_type": "stream",
     "text": [
      " 70%|███████   | 7/10 [00:31<00:13,  4.46s/it]"
     ]
    },
    {
     "name": "stdout",
     "output_type": "stream",
     "text": [
      "gethere12\n",
      "gethere7\n",
      "gethere8\n",
      "gethere9\n",
      "gethere10\n",
      "gethere11\n"
     ]
    },
    {
     "name": "stderr",
     "output_type": "stream",
     "text": [
      " 80%|████████  | 8/10 [00:35<00:08,  4.46s/it]"
     ]
    },
    {
     "name": "stdout",
     "output_type": "stream",
     "text": [
      "gethere12\n",
      "gethere7\n",
      "gethere8\n",
      "gethere9\n",
      "gethere10\n",
      "gethere11\n"
     ]
    },
    {
     "name": "stderr",
     "output_type": "stream",
     "text": [
      " 90%|█████████ | 9/10 [00:40<00:04,  4.46s/it]"
     ]
    },
    {
     "name": "stdout",
     "output_type": "stream",
     "text": [
      "gethere12\n",
      "gethere7\n",
      "gethere8\n",
      "gethere9\n",
      "gethere10\n",
      "gethere11\n"
     ]
    },
    {
     "name": "stderr",
     "output_type": "stream",
     "text": [
      "100%|██████████| 10/10 [00:44<00:00,  4.48s/it]"
     ]
    },
    {
     "name": "stdout",
     "output_type": "stream",
     "text": [
      "gethere12\n",
      "gethere13\n",
      "gethere14\n",
      "gethere15\n",
      "gethere16\n"
     ]
    },
    {
     "name": "stderr",
     "output_type": "stream",
     "text": [
      "\n"
     ]
    },
    {
     "name": "stdout",
     "output_type": "stream",
     "text": [
      "gethere17\n",
      "gethere18\n",
      "gethere16\n",
      "gethere17\n",
      "gethere18\n",
      "gethere16\n",
      "gethere17\n",
      "gethere18\n",
      "gethere16\n",
      "gethere17\n",
      "gethere18\n",
      "gethere16\n",
      "gethere17\n",
      "gethere18\n",
      "Epochs: 5 | Train Loss:  1.655                 | Train Accuracy:  0.100                 | Val Loss:  0.705                 | Val Accuracy:  0.400\n"
     ]
    }
   ],
   "source": [
    "from torch.optim import Adam\n",
    "from tqdm import tqdm\n",
    "\n",
    "def train(model, train_data, val_data, learning_rate, epochs):\n",
    "    print(\"gethere1\")\n",
    "    train, val = Dataset(train_data), Dataset(val_data)\n",
    "    print(\"gethere2\")\n",
    "    train_dataloader = torch.utils.data.DataLoader(train, batch_size=1, shuffle=True)\n",
    "    # train_dataloader = torch.utils.data.DataLoader(train, batch_size=2, shuffle=True)\n",
    "    val_dataloader = torch.utils.data.DataLoader(val, batch_size=2)\n",
    "    print(\"gethere3\")\n",
    "    use_cuda = torch.cuda.is_available()\n",
    "    device = torch.device(\"cuda\" if use_cuda else \"cpu\")\n",
    "    print(\"gethere4\")\n",
    "    criterion = nn.CrossEntropyLoss()\n",
    "    optimizer = Adam(model.parameters(), lr= learning_rate)\n",
    "    print(\"gethere5\")\n",
    "    if use_cuda:\n",
    "\n",
    "            model = model.cuda()\n",
    "            criterion = criterion.cuda()\n",
    "\n",
    "    for epoch_num in range(epochs):\n",
    "            print(\"gethere6\")\n",
    "            total_acc_train = 0\n",
    "            total_loss_train = 0\n",
    " \n",
    "            for train_input, train_label in tqdm(train_dataloader):\n",
    "                print(\"gethere7\")\n",
    "                train_label = train_label.to(device)\n",
    "                mask = train_input['attention_mask'].to(device)\n",
    "                input_id = train_input['input_ids'].squeeze(1).to(device)\n",
    "                print(\"gethere8\")\n",
    "                output = model(input_id, mask)\n",
    "                print(\"gethere9\")\n",
    "                batch_loss = criterion(output, train_label.long())\n",
    "                total_loss_train += batch_loss.item()\n",
    "                print(\"gethere10\")\n",
    "                acc = (output.argmax(dim=1) == train_label).sum().item()\n",
    "                total_acc_train += acc\n",
    "                print(\"gethere11\")\n",
    "                model.zero_grad()\n",
    "                batch_loss.backward()\n",
    "                optimizer.step()\n",
    "                print(\"gethere12\")\n",
    "            print(\"gethere13\")\n",
    "            total_acc_val = 0\n",
    "            total_loss_val = 0\n",
    "            print(\"gethere14\")\n",
    "            with torch.no_grad():\n",
    "                print(\"gethere15\")\n",
    "                for val_input, val_label in val_dataloader:\n",
    "                    print(\"gethere16\")\n",
    "                    val_label = val_label.to(device)\n",
    "                    mask = val_input['attention_mask'].to(device)\n",
    "                    input_id = val_input['input_ids'].squeeze(1).to(device)\n",
    "\n",
    "                    output = model(input_id, mask)\n",
    "                    print(\"gethere17\")\n",
    "                    batch_loss = criterion(output, val_label.long())\n",
    "                    total_loss_val += batch_loss.item()\n",
    "                    print(\"gethere18\")\n",
    "                    acc = (output.argmax(dim=1) == val_label).sum().item()\n",
    "                    total_acc_val += acc\n",
    "            \n",
    "            print(\n",
    "                f'Epochs: {epoch_num + 1} | Train Loss: {total_loss_train / len(train_data): .3f} \\\n",
    "                | Train Accuracy: {total_acc_train / len(train_data): .3f} \\\n",
    "                | Val Loss: {total_loss_val / len(val_data): .3f} \\\n",
    "                | Val Accuracy: {total_acc_val / len(val_data): .3f}')\n",
    "                  \n",
    "EPOCHS = 5\n",
    "model = BertClassifier()\n",
    "LR = 1e-6\n",
    "\n",
    "train(model, df_train, df_val, LR, EPOCHS)"
   ]
  }
 ],
 "metadata": {
  "kernelspec": {
   "display_name": "Python 3.9.12 ('pytorch')",
   "language": "python",
   "name": "python3"
  },
  "language_info": {
   "codemirror_mode": {
    "name": "ipython",
    "version": 3
   },
   "file_extension": ".py",
   "mimetype": "text/x-python",
   "name": "python",
   "nbconvert_exporter": "python",
   "pygments_lexer": "ipython3",
   "version": "3.9.12"
  },
  "orig_nbformat": 4,
  "vscode": {
   "interpreter": {
    "hash": "047a54d6d5df71c45a9c123b62e463480937259cb8383da567628524d0beb982"
   }
  }
 },
 "nbformat": 4,
 "nbformat_minor": 2
}
