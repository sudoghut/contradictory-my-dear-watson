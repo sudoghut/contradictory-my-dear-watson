{
 "cells": [
  {
   "cell_type": "code",
   "execution_count": 1,
   "metadata": {},
   "outputs": [],
   "source": [
    "import pandas as pd\n",
    "import numpy as np\n",
    "from sklearn.preprocessing import LabelEncoder\n",
    "from sklearn.linear_model import LinearRegression\n",
    "from sklearn.neighbors import KNeighborsRegressor\n",
    "from sklearn.ensemble import RandomForestRegressor\n",
    "import lightgbm as lgb"
   ]
  },
  {
   "cell_type": "code",
   "execution_count": 7,
   "metadata": {},
   "outputs": [
    {
     "name": "stdout",
     "output_type": "stream",
     "text": [
      "           id                                            premise  \\\n",
      "0  5130fd2cb5  and these comments were considered in formulat...   \n",
      "1  5b72532a0b  These are issues that we wrestle with in pract...   \n",
      "2  3931fbe82a  Des petites choses comme celles-là font une di...   \n",
      "3  5622f0c60b  you know they can't really defend themselves l...   \n",
      "4  86aaa48b45  ในการเล่นบทบาทสมมุติก็เช่นกัน โอกาสที่จะได้แสด...   \n",
      "5  ed7d6a1e62  Bir çiftlikte birisinin, ağıla kapatılmış bu ö...   \n",
      "6  5a0f4908a0  ریاست ہائے متحدہ امریکہ واپس آنے پر، ہج ایف بی...   \n",
      "7  fdcd1bd867              From Cockpit Country to St. Ann's Bay   \n",
      "8  7cfb3d272c  Look, it's your skin, but you're going to be i...   \n",
      "9  8c10229663  Через каждые сто градусов пятна краски меняют ...   \n",
      "\n",
      "                                          hypothesis lang_abv language  label  \n",
      "0  The rules developed in the interim were put to...       en  English      0  \n",
      "1  Practice groups are not permitted to work on t...       en  English      2  \n",
      "2              J'essayais d'accomplir quelque chose.       fr   French      0  \n",
      "3  They can't defend themselves because of their ...       en  English      0  \n",
      "4    เด็กสามารถเห็นได้ว่าชาติพันธุ์แตกต่างกันอย่างไร       th     Thai      1  \n",
      "5    Çiftlikte insanlar farklı terimler kullanırlar.       tr  Turkish      0  \n",
      "6  ہیگ کی تفتیش ایف بی آئی اہلکاروں  کی طرف سے کی...       ur     Urdu      0  \n",
      "7             From St. Ann's Bay to Cockpit Country.       en  English      2  \n",
      "8  The boss will fire you if he sees you slacking...       en  English      1  \n",
      "9         Краска изменяется в соответствии с цветом.       ru  Russian      0  \n"
     ]
    }
   ],
   "source": [
    "df_raw = pd.read_csv('https://raw.githubusercontent.com/sudoghut/contradictory-my-dear-watson/main/data/train.csv')\n",
    "print(df_raw.head(10))\n",
    "print(df_raw[\"label\"].value_counts)\n"
   ]
  }
 ],
 "metadata": {
  "kernelspec": {
   "display_name": "Python 3.9.12 ('pytorch')",
   "language": "python",
   "name": "python3"
  },
  "language_info": {
   "codemirror_mode": {
    "name": "ipython",
    "version": 3
   },
   "file_extension": ".py",
   "mimetype": "text/x-python",
   "name": "python",
   "nbconvert_exporter": "python",
   "pygments_lexer": "ipython3",
   "version": "3.9.12"
  },
  "orig_nbformat": 4,
  "vscode": {
   "interpreter": {
    "hash": "047a54d6d5df71c45a9c123b62e463480937259cb8383da567628524d0beb982"
   }
  }
 },
 "nbformat": 4,
 "nbformat_minor": 2
}
